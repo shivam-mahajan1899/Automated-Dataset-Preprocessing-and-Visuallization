{
 "cells": [
  {
   "cell_type": "code",
   "execution_count": 2,
   "metadata": {},
   "outputs": [],
   "source": [
    "import pandas as pd\n",
    "import itertools\n",
    "import numpy as np"
   ]
  },
  {
   "cell_type": "code",
   "execution_count": 3,
   "metadata": {},
   "outputs": [],
   "source": [
    "column_list = ['card_match', 'ticket_match', 'name_match', 'amount_match', 'date_match', 'cust_num_match', 'merchant_match', \n",
    "               'ignore_ccn', 'ignore_ticket', 'ignore_name', 'ignore_customer_number', 'ignore_merchant']"
   ]
  },
  {
   "cell_type": "code",
   "execution_count": 4,
   "metadata": {},
   "outputs": [],
   "source": [
    "card_match_values = [0, 1]\n",
    "ticket_match_values = [0, 1]\n",
    "name_match_values = [f\"{i:.2f}\" for i in np.arange(0.00, 1.01, 0.04)]\n",
    "amount_match_values = [f\"{i:.2f}\" for i in np.arange(0.00, 1.01, 0.04)]\n",
    "date_match_values = [f\"{i:.2f}\" for i in np.arange(0.00, 1.01, 0.04)]\n",
    "cust_num_match_values = [0, 1]\n",
    "merchant_match_values = [f\"{i:.2f}\" for i in np.arange(0.00, 1.01, 0.04)]\n",
    "ignore_ccn_values = [0, 1]\n",
    "ignore_ticket_values = [0, 1]\n",
    "ignore_name_values = [0, 1]\n",
    "ignore_customer_number_values = [0, 1]\n",
    "ignore_merchant_values = [0, 1]"
   ]
  },
  {
   "cell_type": "code",
   "execution_count": 5,
   "metadata": {},
   "outputs": [],
   "source": [
    "value_lists = [\n",
    "    card_match_values,\n",
    "    ticket_match_values,\n",
    "    name_match_values,\n",
    "    amount_match_values,\n",
    "    date_match_values,\n",
    "    cust_num_match_values,\n",
    "    merchant_match_values,\n",
    "    ignore_ccn_values,\n",
    "    ignore_ticket_values,\n",
    "    ignore_name_values,\n",
    "    ignore_customer_number_values,\n",
    "    ignore_merchant_values\n",
    "]"
   ]
  },
  {
   "cell_type": "code",
   "execution_count": null,
   "metadata": {},
   "outputs": [
    {
     "ename": "",
     "evalue": "",
     "output_type": "error",
     "traceback": [
      "\u001b[1;31mThe Kernel crashed while executing code in the current cell or a previous cell. \n",
      "\u001b[1;31mPlease review the code in the cell(s) to identify a possible cause of the failure. \n",
      "\u001b[1;31mClick <a href='https://aka.ms/vscodeJupyterKernelCrash'>here</a> for more info. \n",
      "\u001b[1;31mView Jupyter <a href='command:jupyter.viewOutput'>log</a> for further details."
     ]
    }
   ],
   "source": [
    "combinations = list(itertools.product(*value_lists))"
   ]
  },
  {
   "cell_type": "code",
   "execution_count": null,
   "metadata": {},
   "outputs": [],
   "source": [
    "df = pd.DataFrame(combinations, columns=column_list)"
   ]
  },
  {
   "cell_type": "code",
   "execution_count": null,
   "metadata": {},
   "outputs": [],
   "source": [
    "def calculate_confidence(row):\n",
    "\n",
    "  extra_weight = 0\n",
    "  ignore_flags = 0\n",
    "\n",
    "  if row['ignore_ccn'] == 1:\n",
    "    extra_weight = extra_weight + 12\n",
    "    ignore_flags = ignore_flags + 1\n",
    "    row['card_match'] = 0\n",
    "  if row['ignore_ticket'] == 1:\n",
    "    extra_weight = extra_weight + 20\n",
    "    ignore_flags = ignore_flags + 1\n",
    "    row['ticket_match'] = 0\n",
    "  if row['ignore_name'] == 1:\n",
    "    extra_weight = extra_weight + 16\n",
    "    ignore_flags = ignore_flags + 1\n",
    "    row['name_match'] = 0\n",
    "  if row['ignore_customer_number'] == 1:\n",
    "    extra_weight = extra_weight + 6\n",
    "    ignore_flags = ignore_flags + 1\n",
    "    row['cust_num_match'] = 0\n",
    "  if row['ignore_merchant'] == 1:\n",
    "    extra_weight = extra_weight + 10\n",
    "    ignore_flags = ignore_flags + 1\n",
    "    row['merchant_match'] = 0\n",
    "  \n",
    "  distribution = extra_weight / (7 - ignore_flags)\n",
    "  \n",
    "  weighted_score = (\n",
    "            (distribution + 12) * row['card_match'] + \n",
    "            (distribution + 20) * row['ticket_match'] + \n",
    "            (distribution + 16) * row['name_match'] + \n",
    "            (distribution + 20) * row['amount_match'] + \n",
    "            (distribution + 16) * row['date_match'] + \n",
    "            (distribution + 6 ) * row['cust_num_match'] + \n",
    "            (distribution + 10) * row['merchant_match']\n",
    "          )\n",
    "\n",
    "  confidence = weighted_score\n",
    "  return confidence"
   ]
  },
  {
   "cell_type": "code",
   "execution_count": null,
   "metadata": {},
   "outputs": [],
   "source": [
    "df['confidence'] = df.apply(calculate_confidence, axis=1)"
   ]
  },
  {
   "cell_type": "code",
   "execution_count": null,
   "metadata": {},
   "outputs": [],
   "source": [
    "df.to_csv('training_data.csv',  index=False)"
   ]
  }
 ],
 "metadata": {
  "kernelspec": {
   "display_name": "Python 3",
   "language": "python",
   "name": "python3"
  },
  "language_info": {
   "codemirror_mode": {
    "name": "ipython",
    "version": 3
   },
   "file_extension": ".py",
   "mimetype": "text/x-python",
   "name": "python",
   "nbconvert_exporter": "python",
   "pygments_lexer": "ipython3",
   "version": "3.12.1"
  }
 },
 "nbformat": 4,
 "nbformat_minor": 2
}
