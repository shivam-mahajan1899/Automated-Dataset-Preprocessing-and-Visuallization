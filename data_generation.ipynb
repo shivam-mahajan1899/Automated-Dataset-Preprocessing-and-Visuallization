{
 "cells": [
  {
   "cell_type": "code",
   "execution_count": 2,
   "metadata": {},
   "outputs": [],
   "source": [
    "import pandas as pd\n",
    "import itertools\n",
    "import numpy as np"
   ]
  },
  {
   "cell_type": "code",
   "execution_count": 3,
   "metadata": {},
   "outputs": [],
   "source": [
    "column_list = ['card_match', 'ticket_match', 'name_match', 'amount_match', 'date_match', 'cust_num_match', 'merchant_match', \n",
    "               'ignore_ccn', 'ignore_ticket', 'ignore_name', 'ignore_customer_number', 'ignore_merchant']"
   ]
  },
  {
   "cell_type": "code",
   "execution_count": 4,
   "metadata": {},
   "outputs": [],
   "source": [
    "card_match_values = [0, 1]\n",
    "ticket_match_values = [0, 1]\n",
    "name_match_values = [f\"{i:.2f}\" for i in np.arange(0.00, 1.01, 0.04)]\n",
    "amount_match_values = [f\"{i:.2f}\" for i in np.arange(0.00, 1.01, 0.04)]\n",
    "date_match_values = [f\"{i:.2f}\" for i in np.arange(0.00, 1.01, 0.04)]\n",
    "cust_num_match_values = [0, 1]\n",
    "merchant_match_values = [f\"{i:.2f}\" for i in np.arange(0.00, 1.01, 0.04)]\n",
    "ignore_ccn_values = [0, 1]\n",
    "ignore_ticket_values = [0, 1]\n",
    "ignore_name_values = [0, 1]\n",
    "ignore_customer_number_values = [0, 1]\n",
    "ignore_merchant_values = [0, 1]"
   ]
  },
  {
   "cell_type": "code",
   "execution_count": 5,
   "metadata": {},
   "outputs": [],
   "source": [
    "value_lists = [\n",
    "    card_match_values,\n",
    "    ticket_match_values,\n",
    "    name_match_values,\n",
    "    amount_match_values,\n",
    "    date_match_values,\n",
    "    cust_num_match_values,\n",
    "    merchant_match_values,\n",
    "    ignore_ccn_values,\n",
    "    ignore_ticket_values,\n",
    "    ignore_name_values,\n",
    "    ignore_customer_number_values,\n",
    "    ignore_merchant_values\n",
    "]"
   ]
  },
  {
   "cell_type": "code",
   "execution_count": null,
   "metadata": {},
   "outputs": [
    {
     "ename": "",
     "evalue": "",
     "output_type": "error",
     "traceback": [
      "\u001b[1;31mThe Kernel crashed while executing code in the current cell or a previous cell. \n",
      "\u001b[1;31mPlease review the code in the cell(s) to identify a possible cause of the failure. \n",
      "\u001b[1;31mClick <a href='https://aka.ms/vscodeJupyterKernelCrash'>here</a> for more info. \n",
      "\u001b[1;31mView Jupyter <a href='command:jupyter.viewOutput'>log</a> for further details."
     ]
    }
   ],
   "source": [
    "combinations = list(itertools.product(*value_lists))"
   ]
  },
  {
   "cell_type": "code",
   "execution_count": null,
   "metadata": {},
   "outputs": [],
   "source": [
    "df = pd.DataFrame(combinations, columns=column_list)"
   ]
  },
  {
   "cell_type": "code",
   "execution_count": null,
   "metadata": {},
   "outputs": [],
   "source": []
  }
 ],
 "metadata": {
  "kernelspec": {
   "display_name": "Python 3",
   "language": "python",
   "name": "python3"
  },
  "language_info": {
   "codemirror_mode": {
    "name": "ipython",
    "version": 3
   },
   "file_extension": ".py",
   "mimetype": "text/x-python",
   "name": "python",
   "nbconvert_exporter": "python",
   "pygments_lexer": "ipython3",
   "version": "3.12.1"
  }
 },
 "nbformat": 4,
 "nbformat_minor": 2
}
